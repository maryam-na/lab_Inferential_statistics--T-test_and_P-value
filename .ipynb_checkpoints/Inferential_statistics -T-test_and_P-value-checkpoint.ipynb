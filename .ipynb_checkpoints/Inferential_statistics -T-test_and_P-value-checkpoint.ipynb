{
 "cells": [
  {
   "cell_type": "code",
   "execution_count": 1,
   "metadata": {},
   "outputs": [],
   "source": [
    "# importing libraries\n",
    "import pandas as pd\n",
    "import numpy as np\n",
    "from scipy import stats\n"
   ]
  },
  {
   "cell_type": "markdown",
   "metadata": {},
   "source": [
    "Instructions\n",
    "1-We will have another simple example on two sample t test (pooled- when the variances are equal). But this time this is a one sided t-test\n",
    "In a packing plant, a machine packs cartons with jars. It is supposed that a new machine will pack faster on the average than the machine currently used. To test that hypothesis, the times it takes each machine to pack ten cartons are recorded. The results, in seconds, are shown in the tables in the file files_for_lab/machine.txt. Assume that there is sufficient evidence to conduct the t test, does the data provide sufficient evidence to show if one machine is better than the other"
   ]
  },
  {
   "cell_type": "code",
   "execution_count": 6,
   "metadata": {},
   "outputs": [],
   "source": [
    "new_machine = [42.1, 41, 41.3, 41.8, 42.4, 42.8, 43.2, 42.3, 41.8, 42.7]   \n"
   ]
  },
  {
   "cell_type": "code",
   "execution_count": 7,
   "metadata": {},
   "outputs": [],
   "source": [
    "old_machine = [42.7, 43.6, 43.8, 43.3, 42.5, 43.5, 43.1, 41.7, 44, 44.1]"
   ]
  },
  {
   "cell_type": "code",
   "execution_count": 27,
   "metadata": {},
   "outputs": [
    {
     "name": "stdout",
     "output_type": "stream",
     "text": [
      "Standard deviation of packing time: 0.71\n",
      "Mean packing time of the new machine: 42.14\n"
     ]
    }
   ],
   "source": [
    "import statistics\n",
    "from statistics import math\n",
    "st_dev= round(statistics.pstdev(old_machine),2)\n",
    "mean_packing_time_new = round(statistics.mean(new_machine),2)\n",
    "print(\"Standard deviation of packing time: \" + str(st_dev))\n",
    "print(\"Mean packing time of the new machine: \" + str(mean_packing_time_new))\n"
   ]
  },
  {
   "cell_type": "code",
   "execution_count": 28,
   "metadata": {},
   "outputs": [
    {
     "name": "stdout",
     "output_type": "stream",
     "text": [
      "Mean packing time of the old machine: 43.23\n"
     ]
    }
   ],
   "source": [
    "mean_packing_time_old = round(statistics.mean(old_machine),2)\n",
    "print(\"Mean packing time of the old machine: \" + str(mean_packing_time_old))"
   ]
  },
  {
   "cell_type": "markdown",
   "metadata": {},
   "source": [
    "H0 ----> It is supposed that the both machines have the same mean packing time. µ0 = Mean packing time of the old machine and µ = Mean packing time of the new machine. time has inverse relation with rate.   \n",
    "H0 ----> µ = µ0  \n",
    "H1 ---> µ > µ0 or µ < µ0 one of the machines works faster than the other.\n"
   ]
  },
  {
   "cell_type": "code",
   "execution_count": 29,
   "metadata": {},
   "outputs": [
    {
     "data": {
      "text/plain": [
       "-4.854764295188059"
      ]
     },
     "execution_count": 29,
     "metadata": {},
     "output_type": "execute_result"
    }
   ],
   "source": [
    "t_score = (42.14-43.23)/(0.71/math.sqrt(10))\n",
    "t_score"
   ]
  },
  {
   "cell_type": "markdown",
   "metadata": {},
   "source": [
    "considering significance level to be 0.05 --->the probability of the critical region would be 0.05 which corresponds to t_alpha = 4.2 in t_table\n",
    "4.2 < 4.85 ---> t_alpha < t_score ---> H0 could be rejected and H1 is true ---> the old machine packs faster than the new one or the new one packs faster the older one."
   ]
  },
  {
   "cell_type": "markdown",
   "metadata": {},
   "source": [
    "2- additional problem (not mandatory): In this case we can't assume that the population variances are equal. Hence in this case we cannot pool the variances. Independent random samples of 17 sophomores and 13 juniors attending a large university yield the following data on grade point averages. Data is provided in the file files_for_lab/student_gpa.txt. At the 5% significance level, do the data provide sufficient evidence to conclude that the mean GPAs of sophomores and juniors at the university differ?"
   ]
  },
  {
   "cell_type": "code",
   "execution_count": 21,
   "metadata": {},
   "outputs": [],
   "source": [
    "sophomores = [ 3.04, 1.71, 3.3, 2.88, 2.11, 2.6, 2.92, 3.6, 2.28, 2.82, 3.03, 3.13, 2.86, 3.49, 3.11, 2.13, 3.27]  \n",
    "juniors = [ 2.56, 2.77, 2.7, 3, 2.98, 3.47, 3.26, 3.2, 3.19, 2.65, 3, 3.39, 2.58] \n"
   ]
  },
  {
   "cell_type": "code",
   "execution_count": null,
   "metadata": {},
   "outputs": [],
   "source": [
    "H0 ---->  the mean GPAs of sophomores is the same as juniors. µ0 = mean_gpa_juniors, µ=mean_gpa_sophomores\n",
    "H0 ----> µ = µ0  \n",
    "H1 ---> µ < µ0 or µ > µ0. It is supposed that the mean GPAs of juniors is higher than sophomores or vice versa ( the mean GPAs of sophomores and juniors at the university differ)"
   ]
  },
  {
   "cell_type": "code",
   "execution_count": 25,
   "metadata": {},
   "outputs": [
    {
     "name": "stdout",
     "output_type": "stream",
     "text": [
      "Standard deviation of the juniors GPAs: 0.3\n",
      "Mean GPAs of the juniors: 2.98\n"
     ]
    }
   ],
   "source": [
    "st_dev_junior = round(statistics.pstdev(juniors),2)\n",
    "mean_gpa_junior = round(statistics.mean(juniors),2)\n",
    "print(\"Standard deviation of the juniors GPAs: \" + str(st_dev_junior))\n",
    "print(\"Mean GPAs of the juniors: \" + str(mean_gpa_junior))\n"
   ]
  },
  {
   "cell_type": "code",
   "execution_count": 26,
   "metadata": {},
   "outputs": [
    {
     "name": "stdout",
     "output_type": "stream",
     "text": [
      "Standard deviation of the sophomores GPAs: 0.5\n",
      "Mean GPAs of the sophomores: 2.84\n"
     ]
    }
   ],
   "source": [
    "st_dev_sophomores = round(statistics.pstdev(sophomores),2)\n",
    "mean_gpa_sophomores = round(statistics.mean(sophomores),2)\n",
    "print(\"Standard deviation of the sophomores GPAs: \" + str(st_dev_sophomores))\n",
    "print(\"Mean GPAs of the sophomores: \" + str(mean_gpa_sophomores))"
   ]
  },
  {
   "cell_type": "markdown",
   "metadata": {},
   "source": [
    "in this case:\n",
    "s/sqrt(n)=sqrt((s1)^2/n1 + (s2)^2/n2), where s1 and s2 are standard deviation for juniors and sophomores and n1 and n2 are their number of observations."
   ]
  },
  {
   "cell_type": "code",
   "execution_count": 30,
   "metadata": {},
   "outputs": [
    {
     "data": {
      "text/plain": [
       "0.1471"
      ]
     },
     "execution_count": 30,
     "metadata": {},
     "output_type": "execute_result"
    }
   ],
   "source": [
    "s_mean = round(math.sqrt((0.3)**2/13 + (0.5)**2/17 ),4)\n",
    "s_mean"
   ]
  },
  {
   "cell_type": "code",
   "execution_count": 32,
   "metadata": {},
   "outputs": [
    {
     "data": {
      "text/plain": [
       "0.9517335146159084"
      ]
     },
     "execution_count": 32,
     "metadata": {},
     "output_type": "execute_result"
    }
   ],
   "source": [
    "t_score = (2.98-2.84)/0.1471\n",
    "t_score "
   ]
  },
  {
   "cell_type": "markdown",
   "metadata": {},
   "source": [
    "considering significance level to be 5% --->the probability of the critical region would be 0.05 which corresponds to t_alpha = 4.2 in t_table\n",
    "4.2 > 0.95 ---> t_alpha > t_score ---> H0 is true --->  the mean GPAs of sophomores and juniors at the university are the same."
   ]
  }
 ],
 "metadata": {
  "kernelspec": {
   "display_name": "Python 3",
   "language": "python",
   "name": "python3"
  },
  "language_info": {
   "codemirror_mode": {
    "name": "ipython",
    "version": 3
   },
   "file_extension": ".py",
   "mimetype": "text/x-python",
   "name": "python",
   "nbconvert_exporter": "python",
   "pygments_lexer": "ipython3",
   "version": "3.8.3"
  }
 },
 "nbformat": 4,
 "nbformat_minor": 4
}
